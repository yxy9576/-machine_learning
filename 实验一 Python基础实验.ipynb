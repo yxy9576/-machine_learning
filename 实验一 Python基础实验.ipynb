{
 "cells": [
  {
   "cell_type": "markdown",
   "metadata": {},
   "source": [
    "### **一、Numpy模块**\n",
    "#### **1、创建数组**\n",
    "*1）从原始数据中创建ndarray数组* \n",
    "\n",
    "- 原始数据：\n",
    ">[[1,2,3],[4,5,6],[7,8,9]] \n",
    "- 数据类型为**int8**"
   ]
  },
  {
   "cell_type": "code",
   "execution_count": null,
   "metadata": {},
   "outputs": [],
   "source": [
    "import numpy as np\n"
   ]
  },
  {
   "cell_type": "markdown",
   "metadata": {},
   "source": [
    "*2）创建一个形状为（3,4,5）的随机ndarray数组，同时满足其中的元素为**高斯分布*** "
   ]
  },
  {
   "cell_type": "code",
   "execution_count": null,
   "metadata": {},
   "outputs": [],
   "source": []
  },
  {
   "cell_type": "markdown",
   "metadata": {},
   "source": [
    "*2）创建一个1-100之间的**等差数列**ndarray数组，差值为2* "
   ]
  },
  {
   "cell_type": "code",
   "execution_count": null,
   "metadata": {},
   "outputs": [],
   "source": []
  },
  {
   "cell_type": "markdown",
   "metadata": {},
   "source": [
    "#### **2、操作数组**\n",
    "*1）创建一个形状为（4,5）的随机数组，对其进行转置，然后将形状改为（2，10）* "
   ]
  },
  {
   "cell_type": "code",
   "execution_count": 8,
   "metadata": {},
   "outputs": [],
   "source": []
  },
  {
   "cell_type": "markdown",
   "metadata": {},
   "source": [
    "*2）创建一个形状为（7,15）的随机数组* \n",
    "- 在第0个维度（行）计算其总和、均值、标准差\n",
    "- 在第1个维度（列）计算其总和、均值、标准差"
   ]
  },
  {
   "cell_type": "code",
   "execution_count": null,
   "metadata": {},
   "outputs": [],
   "source": [
    "\n"
   ]
  },
  {
   "cell_type": "markdown",
   "metadata": {},
   "source": [
    "*3）创建两个形状为（8,15），（8,15）的随机数组*  \n",
    "- 拼接这两个数组，结果数组形状为（16，15）\n",
    "- 拼接这两个数组，结果数组形状为（8，30）\n",
    "- 分割得到的（16，15）数组为两个数组，一个形状为（2,15），另一个形状为（14,15）\n",
    "- 分割得到的（8，30）数组为两个数组，一个形状为（8,10），另一个形状为（8,20）"
   ]
  },
  {
   "cell_type": "code",
   "execution_count": null,
   "metadata": {},
   "outputs": [],
   "source": []
  },
  {
   "cell_type": "markdown",
   "metadata": {},
   "source": [
    "*4）使用原始数据[11,23,13,4,57,6,7,89,9]创建一个ndarray数组*\n",
    "- 混淆这个数组的元素\n",
    "- 返回混淆后数组中元素值大于15的元素位置"
   ]
  },
  {
   "cell_type": "code",
   "execution_count": null,
   "metadata": {},
   "outputs": [],
   "source": []
  },
  {
   "cell_type": "markdown",
   "metadata": {},
   "source": [
    "*5）随机创建两个ndarray数组，一个数组形状为（3,4,5），另一个数组形状为（4,5）* \n",
    "- 通过广播的方式，将两个数组相加"
   ]
  },
  {
   "cell_type": "code",
   "execution_count": 47,
   "metadata": {},
   "outputs": [],
   "source": []
  },
  {
   "cell_type": "markdown",
   "metadata": {},
   "source": [
    "### **二、Pandas模块**\n",
    "*1）创建一个形状为（50,3）的随机ndarray数组*\n",
    "- 转为DataFrame\n",
    "- 查看前5行元素\n",
    "- 查看后6行元素\n",
    "- 保存到一个csv文件"
   ]
  },
  {
   "cell_type": "code",
   "execution_count": 50,
   "metadata": {},
   "outputs": [],
   "source": []
  },
  {
   "cell_type": "markdown",
   "metadata": {},
   "source": [
    "### **三、Matplotlib模块** \n",
    "*1）一个大图包含4个子图* \n",
    "- 在第一个图画折线图\n",
    "- 在第二个图画柱状图\n",
    "- 在第三个图画饼图\n",
    "- 在第四个图画散点图\n",
    "- 给图添加图题"
   ]
  },
  {
   "cell_type": "code",
   "execution_count": null,
   "metadata": {},
   "outputs": [],
   "source": []
  }
 ],
 "metadata": {
  "kernelspec": {
   "display_name": "ml_lab",
   "language": "python",
   "name": "python3"
  },
  "language_info": {
   "codemirror_mode": {
    "name": "ipython",
    "version": 3
   },
   "file_extension": ".py",
   "mimetype": "text/x-python",
   "name": "python",
   "nbconvert_exporter": "python",
   "pygments_lexer": "ipython3",
   "version": "3.12.3"
  }
 },
 "nbformat": 4,
 "nbformat_minor": 2
}
